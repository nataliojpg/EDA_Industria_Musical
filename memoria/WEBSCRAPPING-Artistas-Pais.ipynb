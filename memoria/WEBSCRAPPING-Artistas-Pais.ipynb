{
 "cells": [
  {
   "cell_type": "code",
   "execution_count": 2,
   "metadata": {},
   "outputs": [],
   "source": [
    "\n",
    "from selenium import webdriver\n",
    "from selenium.webdriver.chrome.service import Service\n",
    "from selenium.webdriver.common.by import By\n",
    "import time\n",
    "import requests\n",
    "from fake_useragent import UserAgent\n",
    "import pandas as pd"
   ]
  },
  {
   "cell_type": "code",
   "execution_count": 122,
   "metadata": {},
   "outputs": [],
   "source": [
    "lista_artistas = ['The Weeknd', 'Taylor Swift', 'Ed Sheeran', 'Dua Lipa', 'Bad Bunny','Rihanna',\n",
    " 'Drake', 'Justin Bieber', 'Billie Eilish', 'Miley Cyrus', 'David Guetta',\n",
    " 'Travis Scott', 'Ariana Grande', 'Coldplay', 'Calvin Harris', 'Shakira',\n",
    " 'Eminem', 'Post Malone', 'Bruno Mars', 'Doja Cat', 'Nicki Minaj', 'SZA',\n",
    " 'Harry Styles', 'Olivia Rodrigo', 'Imagine Dragons', 'Ye', 'Maroon 5',\n",
    " 'Marshmello', 'KAROL G', 'Lana Del Rey', 'Sam Smith', '21 Savage',\n",
    " 'Selena Gomez', 'Daddy Yankee', 'Lady Gaga', 'Metro Boomin', 'Future',\n",
    " 'Khalid', 'J Balvin', 'Beyonce', 'Adele', 'Katy Perry', 'Peso Pluma',\n",
    " 'Elton John', 'Queen', 'Chris Brown', 'Kendrick Lamar', 'OneRepublic',\n",
    " 'Myke Towers', 'Rauw Alejandro', 'Ozuna', 'Arctic Monkeys', 'Sia',\n",
    " 'Shawn Mendes', 'Bebe Rexha', 'Tiesto', 'Halsey', 'Bizarrap', 'Charlie Puth',\n",
    " 'Ice Spice', 'J. Cole', 'Ellie Goulding', 'Anne-Marie', 'Madonna',\n",
    " 'Black Eyed Peas', 'Feid', 'Maluma', 'Camila Cabello', 'Swae Lee',\n",
    " 'Arijit Singh', 'One Direction', 'James Arthur', 'Farruko', 'Quevedo',\n",
    " 'Playboi Carti' ,'The Chainsmokers', 'Pitbull', 'Gunna', 'Michael Jackson',\n",
    " 'Avicii', 'Kali Uchis', 'JAY-Z', 'Latto', 'XXXTENTACION', 'Manuel Turizo',\n",
    " 'Grupo Frontera', 'Lil Wayne', 'ROSALÍA','Pritam', 'Lil Uzi Vert', 'Aqua', 'Sean Paul', 'Linkin Park', 'P!nk', 'Diplo',\n",
    " 'Britney Spears', 'Jhayco', 'Shreya Ghoshal', 'BTS', 'Justin Timberlake',\n",
    " 'Fleetwood Mac', 'Jung Kook', 'Don Omar', 'Central Cee', 'Anuel AA',\n",
    " 'Jason Derulo', 'DJ Snake', 'Ava Max', 'Becky G', 'Rema', 'The Neighbourhood',\n",
    " 'Lewis Capaldi', 'A. R. Rahman', 'The Kid LAROI','Cardi B','50 Cent',\n",
    " 'Young Thug','Coi Leray','Demi Lovato', 'Alan Walker','Pharrell Williams']\n",
    "lista_pais = []\n"
   ]
  },
  {
   "cell_type": "code",
   "execution_count": 176,
   "metadata": {},
   "outputs": [],
   "source": [
    "ua = UserAgent()\n",
    "user_agent = ua.random\n",
    "\n",
    "options = webdriver.ChromeOptions()\n",
    "options.add_argument(f'user-agent={user_agent}')\n",
    "\n",
    "service = Service(executable_path='./chromedriver')\n",
    "options = webdriver.ChromeOptions()\n",
    "driver = webdriver.Chrome(service=service, options=options)\n",
    "\n",
    "        #Entrar a la web\n",
    "driver.get(\"https://musicbrainz.org/\")\n",
    "time.sleep(3)"
   ]
  },
  {
   "cell_type": "code",
   "execution_count": 177,
   "metadata": {},
   "outputs": [
    {
     "name": "stdout",
     "output_type": "stream",
     "text": [
      "Becky G\n",
      "Rema\n",
      "The Neighbourhood\n",
      "Lewis Capaldi\n",
      "A. R. Rahman\n",
      "The Kid LAROI\n",
      "Cardi B\n",
      "50 Cent\n",
      "Young Thug\n",
      "Coi Leray\n",
      "Demi Lovato\n",
      "Alan Walker\n",
      "Pharrell Williams\n"
     ]
    }
   ],
   "source": [
    "\n",
    "turnos = 0\n",
    "for musico in lista_artistas:#lista_artistas:\n",
    "    if turnos == 20:\n",
    "        driver.quit()\n",
    "        ua = UserAgent()\n",
    "        user_agent = ua.random\n",
    "\n",
    "        options = webdriver.ChromeOptions()\n",
    "        options.add_argument(f'user-agent={user_agent}')\n",
    "\n",
    "        service = Service(executable_path='./chromedriver')\n",
    "        options = webdriver.ChromeOptions()\n",
    "\n",
    "        driver = webdriver.Chrome(service=service, options=options)\n",
    "\n",
    "        #Entrar a la web\n",
    "        driver.get(\"https://musicbrainz.org/\")\n",
    "        turnos =0\n",
    "        time.sleep(5)\n",
    "\n",
    "\n",
    "    #Meterse en el buscador\n",
    "    barra_busqueda = driver.find_element(By.XPATH,\"/html/body/div[1]/div/div[1]/div[2]/form/input[1]\")\n",
    "    barra_busqueda.click()\n",
    "\n",
    "    #Selección de artista\n",
    "    artista = musico\n",
    "    barra_busqueda.send_keys(artista)\n",
    "\n",
    "    #Buscar\n",
    "    boton_busqueda = driver.find_element(By.XPATH,\"/html/body/div[1]/div/div[1]/div[2]/form/button/img\")\n",
    "    boton_busqueda.click()\n",
    "\n",
    "    #Selección del primero en resultados\n",
    "    nombre_artista = driver.find_element(By.XPATH,\"/html/body/div[2]/div/table/tbody/tr[1]/td[1]/a/bdi\")\n",
    "    nombre_artista.click()\n",
    "\n",
    "    #Tomar país de origen\n",
    "    pais = driver.find_element(By.CSS_SELECTOR,\"[class^='flag']\")\n",
    "    #pais.text\n",
    "    lista_pais.append(pais.text)\n",
    "    turnos += 1\n",
    "    time.sleep(5)\n",
    "   \n",
    "    "
   ]
  },
  {
   "cell_type": "code",
   "execution_count": 178,
   "metadata": {},
   "outputs": [
    {
     "data": {
      "text/plain": [
       "121"
      ]
     },
     "execution_count": 178,
     "metadata": {},
     "output_type": "execute_result"
    }
   ],
   "source": [
    "len(lista_pais)"
   ]
  },
  {
   "cell_type": "code",
   "execution_count": 179,
   "metadata": {},
   "outputs": [
    {
     "data": {
      "text/plain": [
       "['Canada',\n",
       " 'United States',\n",
       " 'United Kingdom',\n",
       " 'United Kingdom',\n",
       " 'Puerto Rico',\n",
       " 'Barbados',\n",
       " 'Canada',\n",
       " 'Canada',\n",
       " 'United States',\n",
       " 'United States',\n",
       " 'France',\n",
       " 'United States',\n",
       " 'United States',\n",
       " 'United Kingdom',\n",
       " 'United Kingdom',\n",
       " 'Colombia',\n",
       " 'United States',\n",
       " 'United States',\n",
       " 'United States',\n",
       " 'United States',\n",
       " 'Trinidad and Tobago',\n",
       " 'United States',\n",
       " 'United Kingdom',\n",
       " 'United States',\n",
       " 'United States',\n",
       " 'United States',\n",
       " 'United States',\n",
       " 'United States',\n",
       " 'Colombia',\n",
       " 'United States',\n",
       " 'United Kingdom',\n",
       " 'United Kingdom',\n",
       " 'United States',\n",
       " 'Puerto Rico',\n",
       " 'United States',\n",
       " 'United States',\n",
       " 'United States',\n",
       " 'United States',\n",
       " 'Colombia',\n",
       " 'United States',\n",
       " 'United Kingdom',\n",
       " 'United States',\n",
       " 'Mexico',\n",
       " 'United Kingdom',\n",
       " 'United Kingdom',\n",
       " 'United States',\n",
       " 'United States',\n",
       " 'United States',\n",
       " 'Puerto Rico',\n",
       " 'Puerto Rico',\n",
       " 'Puerto Rico',\n",
       " 'United Kingdom',\n",
       " 'Australia',\n",
       " 'Canada',\n",
       " 'United States',\n",
       " 'Netherlands',\n",
       " 'United States',\n",
       " 'Argentina',\n",
       " 'United States',\n",
       " 'United States',\n",
       " 'Germany',\n",
       " 'United Kingdom',\n",
       " 'United Kingdom',\n",
       " 'United States',\n",
       " 'United States',\n",
       " 'Colombia',\n",
       " 'Colombia',\n",
       " 'Cuba',\n",
       " 'United States',\n",
       " 'India',\n",
       " 'United Kingdom',\n",
       " 'United Kingdom',\n",
       " 'Puerto Rico',\n",
       " 'Spain',\n",
       " 'United States',\n",
       " 'United States',\n",
       " 'United States',\n",
       " 'United States',\n",
       " 'United States',\n",
       " 'Sweden',\n",
       " 'Colombia',\n",
       " 'United States',\n",
       " 'United States',\n",
       " 'United States',\n",
       " 'Colombia',\n",
       " 'United States',\n",
       " 'United States',\n",
       " 'Spain',\n",
       " 'India',\n",
       " 'United States',\n",
       " 'Denmark',\n",
       " 'Jamaica',\n",
       " 'United States',\n",
       " 'United States',\n",
       " 'United States',\n",
       " 'United States',\n",
       " 'Puerto Rico',\n",
       " 'India',\n",
       " 'South Korea',\n",
       " 'United States',\n",
       " 'United Kingdom',\n",
       " 'South Korea',\n",
       " 'Puerto Rico',\n",
       " 'United Kingdom',\n",
       " 'Puerto Rico',\n",
       " 'United States',\n",
       " 'France',\n",
       " 'United States',\n",
       " 'United States',\n",
       " 'United Kingdom',\n",
       " 'United States',\n",
       " 'United Kingdom',\n",
       " 'India',\n",
       " 'Australia',\n",
       " 'United States',\n",
       " 'United States',\n",
       " 'United States',\n",
       " 'United States',\n",
       " 'United States',\n",
       " 'United Kingdom',\n",
       " 'United States']"
      ]
     },
     "execution_count": 179,
     "metadata": {},
     "output_type": "execute_result"
    }
   ],
   "source": [
    "lista_pais\n"
   ]
  },
  {
   "cell_type": "code",
   "execution_count": 186,
   "metadata": {},
   "outputs": [],
   "source": [
    "driver.quit()"
   ]
  },
  {
   "cell_type": "code",
   "execution_count": 181,
   "metadata": {},
   "outputs": [],
   "source": [
    "dicc_artista_pais = {\"Artista\": lista_artistas,\n",
    "                     \"Pais\": lista_pais}"
   ]
  },
  {
   "cell_type": "code",
   "execution_count": 182,
   "metadata": {},
   "outputs": [],
   "source": [
    "top_artistas_pais = pd.DataFrame(dicc_artista_pais)"
   ]
  },
  {
   "cell_type": "code",
   "execution_count": 183,
   "metadata": {},
   "outputs": [
    {
     "data": {
      "text/plain": [
       "Pais\n",
       "United States          59\n",
       "United Kingdom         20\n",
       "Puerto Rico             9\n",
       "Colombia                7\n",
       "Canada                  4\n",
       "India                   4\n",
       "Australia               2\n",
       "Spain                   2\n",
       "South Korea             2\n",
       "France                  2\n",
       "Mexico                  1\n",
       "Trinidad and Tobago     1\n",
       "Argentina               1\n",
       "Germany                 1\n",
       "Cuba                    1\n",
       "Barbados                1\n",
       "Sweden                  1\n",
       "Denmark                 1\n",
       "Jamaica                 1\n",
       "Netherlands             1\n",
       "Name: count, dtype: int64"
      ]
     },
     "execution_count": 183,
     "metadata": {},
     "output_type": "execute_result"
    }
   ],
   "source": [
    "top_artistas_pais[\"Pais\"].value_counts()"
   ]
  },
  {
   "cell_type": "code",
   "execution_count": 185,
   "metadata": {},
   "outputs": [],
   "source": [
    "top_artistas_pais.to_csv(\"top_artistas_pais.csv\", sep=';', index=False, encoding='utf-8')"
   ]
  }
 ],
 "metadata": {
  "kernelspec": {
   "display_name": "Python 3",
   "language": "python",
   "name": "python3"
  },
  "language_info": {
   "codemirror_mode": {
    "name": "ipython",
    "version": 3
   },
   "file_extension": ".py",
   "mimetype": "text/x-python",
   "name": "python",
   "nbconvert_exporter": "python",
   "pygments_lexer": "ipython3",
   "version": "3.10.11"
  }
 },
 "nbformat": 4,
 "nbformat_minor": 2
}
